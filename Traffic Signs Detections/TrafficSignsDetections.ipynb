{
 "cells": [
  {
   "cell_type": "markdown",
   "metadata": {
    "collapsed": true,
    "pycharm": {
     "name": "#%% md\n"
    }
   },
   "source": [
    "# YOLO fine tuning by YOLO library #\n",
    "\n",
    "### I used [Traffic Signs Dataset in YOLO format](https://www.kaggle.com/datasets/valentynsichkar/traffic-signs-dataset-in-yolo-format) ###"
   ]
  },
  {
   "cell_type": "code",
   "execution_count": 1,
   "outputs": [
    {
     "name": "stderr",
     "output_type": "stream",
     "text": [
      "Ultralytics YOLOv8.0.103  Python-3.9.13 torch-2.0.1+cu118 CUDA:0 (NVIDIA GeForce RTX 3060, 12287MiB)\n",
      "Setup complete  (6 CPUs, 15.9 GB RAM, 572.6/931.5 GB disk)\n"
     ]
    }
   ],
   "source": [
    "import os\n",
    "import random\n",
    "import ultralytics\n",
    "from ultralytics import YOLO\n",
    "ultralytics.checks()"
   ],
   "metadata": {
    "collapsed": false,
    "pycharm": {
     "name": "#%%\n"
    }
   }
  },
  {
   "cell_type": "markdown",
   "source": [
    "### Prepare dataset to fine-tune ###"
   ],
   "metadata": {
    "collapsed": false,
    "pycharm": {
     "name": "#%% md\n"
    }
   }
  },
  {
   "cell_type": "code",
   "execution_count": 37,
   "outputs": [],
   "source": [
    "#specify paths to folders\n",
    "train_path = 'some_folder\\\\train'\n",
    "valid_path = 'some_folder\\\\valid'\n",
    "test_path = 'some_folder\\\\test'"
   ],
   "metadata": {
    "collapsed": false,
    "pycharm": {
     "name": "#%%\n"
    }
   }
  },
  {
   "cell_type": "code",
   "execution_count": null,
   "outputs": [],
   "source": [
    "ano_paths=[]\n",
    "\n",
    "for dirname, _, filenames in os.walk('dataset\\\\ts\\\\ts'):\n",
    "    for filename in filenames:\n",
    "        ano_paths+=[(os.path.join(dirname, filename))]\n",
    "\n",
    "# ano_paths = [i.replace('\\\\', '/') for i in ano_paths]\n",
    "n=len(ano_paths)\n",
    "N=list(range(1,len(ano_paths),2))\n",
    "random.shuffle(N)\n",
    "\n",
    "valid_count = 100\n",
    "test_count = 50\n",
    "\n",
    "\n",
    "test_i = N[:test_count]\n",
    "train_i = N[test_count:-valid_count]\n",
    "valid_i = N[-valid_count:]"
   ],
   "metadata": {
    "collapsed": false,
    "pycharm": {
     "name": "#%%\n",
     "is_executing": true
    }
   }
  },
  {
   "cell_type": "code",
   "execution_count": 46,
   "outputs": [],
   "source": [
    "def create_dataset(list_of_pictures, path):\n",
    "    for i in list_of_pictures:\n",
    "        ano_path=ano_paths[i]\n",
    "\n",
    "        img_path = os.path.join('dataset\\\\ts\\\\ts', ano_path.split('\\\\')[-1][0:-4]+'.jpg')\n",
    "        try:\n",
    "            !copy {ano_path} {path} #use cp on linux\n",
    "            !copy {img_path} {path} #use cp on linux\n",
    "        except:\n",
    "            continue"
   ],
   "metadata": {
    "collapsed": false,
    "pycharm": {
     "name": "#%%\n"
    }
   }
  },
  {
   "cell_type": "code",
   "execution_count": null,
   "outputs": [],
   "source": [
    "create_dataset(train_i, train_path)\n",
    "create_dataset(valid_i, valid_path)\n",
    "create_dataset(test_i, test_path)"
   ],
   "metadata": {
    "collapsed": false,
    "pycharm": {
     "name": "#%%\n",
     "is_executing": true
    }
   }
  },
  {
   "cell_type": "markdown",
   "source": [
    "### Create .yaml file ###"
   ],
   "metadata": {
    "collapsed": false,
    "pycharm": {
     "name": "#%% md\n"
    }
   }
  },
  {
   "cell_type": "code",
   "execution_count": 54,
   "outputs": [],
   "source": [
    "import yaml\n",
    "\n",
    "data_yaml = dict(\n",
    "    train = \"some_folder\\\\train\",\n",
    "    val = \"some_folder\\\\valid\",\n",
    "    test= \"some_folder\\\\test\",\n",
    "    nc = 4,\n",
    "    names = ['prohibitor','danger','mandatory','other']\n",
    ")\n",
    "\n",
    "with open('data.yaml', 'w') as outfile:\n",
    "    yaml.dump(data_yaml, outfile, default_flow_style=True)"
   ],
   "metadata": {
    "collapsed": false,
    "pycharm": {
     "name": "#%%\n"
    }
   }
  },
  {
   "cell_type": "markdown",
   "source": [
    "### Start fine-tuning ###\n",
    "find in output 'Results saved to ...'"
   ],
   "metadata": {
    "collapsed": false,
    "pycharm": {
     "name": "#%% md\n"
    }
   }
  },
  {
   "cell_type": "code",
   "execution_count": null,
   "outputs": [],
   "source": [
    "model = YOLO(\"yolov8x.pt\")\n",
    "#wandb.login() or run in terminal\n",
    "!yolo task=detect mode=train model=yolov8x.pt data=data.yaml epochs=12 imgsz=480"
   ],
   "metadata": {
    "collapsed": false,
    "pycharm": {
     "name": "#%%\n",
     "is_executing": true
    }
   }
  },
  {
   "cell_type": "markdown",
   "source": [
    "### Predict data ###"
   ],
   "metadata": {
    "collapsed": false,
    "pycharm": {
     "name": "#%% md\n"
    }
   }
  },
  {
   "cell_type": "code",
   "execution_count": null,
   "outputs": [],
   "source": [
    "model_path = \"output\\\\weights\\\\best.pt\"\n",
    "source_path = \"dataset\\\\traffic-sign-to-test.mp4\"\n",
    "!yolo task=detect mode=predict model={model_path} conf=0.5 source={source_path}"
   ],
   "metadata": {
    "collapsed": false,
    "pycharm": {
     "name": "#%%\n",
     "is_executing": true
    }
   }
  }
 ],
 "metadata": {
  "kernelspec": {
   "display_name": "Python 3",
   "language": "python",
   "name": "python3"
  },
  "language_info": {
   "codemirror_mode": {
    "name": "ipython",
    "version": 2
   },
   "file_extension": ".py",
   "mimetype": "text/x-python",
   "name": "python",
   "nbconvert_exporter": "python",
   "pygments_lexer": "ipython2",
   "version": "2.7.6"
  }
 },
 "nbformat": 4,
 "nbformat_minor": 0
}