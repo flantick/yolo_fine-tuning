{
 "cells": [
  {
   "cell_type": "markdown",
   "metadata": {
    "collapsed": true,
    "pycharm": {
     "name": "#%% md\n"
    }
   },
   "source": [
    "# YOLO fine tuning by YOLO library #\n",
    "\n",
    "### I used [pothole_dataset from learnopencv](https://learnopencv.s3.us-west-2.amazonaws.com/pothole_dataset.zip) ###\n",
    "\n",
    "###### creating yaml for YOLO ######"
   ]
  },
  {
   "cell_type": "code",
   "execution_count": 1,
   "outputs": [],
   "source": [
    "import yaml\n",
    "\n",
    "data_yaml = dict(\n",
    "    train = \"some_folder\\\\pothole_dataset\\\\images\\\\train\",\n",
    "    val = \"some_folder\\\\pothole_dataset\\\\images\\\\valid\",\n",
    "    test= \"some_folder\\\\pothole_dataset\\\\images\\\\test\",\n",
    "    nc = 1,\n",
    "    names = ['pothole']\n",
    ")\n",
    "\n",
    "with open('pothole.yaml', 'w') as outfile:\n",
    "    yaml.dump(data_yaml, outfile, default_flow_style=True)"
   ],
   "metadata": {
    "collapsed": false,
    "pycharm": {
     "name": "#%%\n"
    }
   }
  },
  {
   "cell_type": "markdown",
   "source": [
    "#### train ####\n",
    "find in output 'Results saved to ..."
   ],
   "metadata": {
    "collapsed": false,
    "pycharm": {
     "name": "#%% md\n"
    }
   }
  },
  {
   "cell_type": "code",
   "execution_count": null,
   "outputs": [],
   "source": [
    "#wandb.login() or run in terminal\n",
    "!yolo task=detect mode=train model=yolov8x.pt data=pothole.yaml epochs=15 imgsz=640 batch=10"
   ],
   "metadata": {
    "collapsed": false,
    "pycharm": {
     "name": "#%%\n"
    }
   }
  },
  {
   "cell_type": "markdown",
   "source": [
    "#### predict ####"
   ],
   "metadata": {
    "collapsed": false,
    "pycharm": {
     "name": "#%% md\n"
    }
   }
  },
  {
   "cell_type": "code",
   "execution_count": null,
   "outputs": [],
   "source": [
    "model_path = \"some_folder\\\\best.pt\"\n",
    "source_path = \"some_folder\\\\potholes.mp4\"\n",
    "!yolo task=detect mode=predict model={model_path} conf=0.25 source={source_path}"
   ],
   "metadata": {
    "collapsed": false,
    "pycharm": {
     "name": "#%%\n",
     "is_executing": true
    }
   }
  }
 ],
 "metadata": {
  "kernelspec": {
   "display_name": "Python 3",
   "language": "python",
   "name": "python3"
  },
  "language_info": {
   "codemirror_mode": {
    "name": "ipython",
    "version": 2
   },
   "file_extension": ".py",
   "mimetype": "text/x-python",
   "name": "python",
   "nbconvert_exporter": "python",
   "pygments_lexer": "ipython2",
   "version": "2.7.6"
  }
 },
 "nbformat": 4,
 "nbformat_minor": 0
}